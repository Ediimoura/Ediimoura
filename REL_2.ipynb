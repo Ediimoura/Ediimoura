{
 "cells": [
  {
   "cell_type": "markdown",
   "metadata": {},
   "source": [
    "## Relationship Survey Data Set- EDA\n",
    "\n",
    "This data is provided by customers who have not had any policy changes/interactions with the company in a while as a check in with their satisfaction. \n",
    "\n",
    "- about 50k rows\n",
    "- 2017-2020 data"
   ]
  },
  {
   "cell_type": "code",
   "execution_count": 1,
   "metadata": {},
   "outputs": [],
   "source": [
    "import nltk\n",
    "from nltk.corpus import stopwords\n",
    "import matplotlib.pyplot as plt\n",
    "import pandas as pd\n",
    "import numpy as np\n",
    "import seaborn as sns\n",
    "#sns.set()\n",
    "#%matplotlib inline"
   ]
  },
  {
   "cell_type": "code",
   "execution_count": 2,
   "metadata": {},
   "outputs": [
    {
     "name": "stdout",
     "output_type": "stream",
     "text": [
      "<class 'pandas.core.frame.DataFrame'>\n",
      "RangeIndex: 50234 entries, 0 to 50233\n",
      "Data columns (total 6 columns):\n",
      "REL ID                         50234 non-null int64\n",
      "REL Respid                     50234 non-null int64\n",
      "Combined Interview End Date    50234 non-null object\n",
      "REL Primary Reason             50234 non-null object\n",
      "REL Reason Other               50231 non-null object\n",
      "REL Primary Reason Comments    50214 non-null object\n",
      "dtypes: int64(2), object(4)\n",
      "memory usage: 2.3+ MB\n"
     ]
    }
   ],
   "source": [
    "rel = pd.read_csv('REL Data.csv')\n",
    "rel.info()"
   ]
  },
  {
   "cell_type": "code",
   "execution_count": 6,
   "metadata": {},
   "outputs": [
    {
     "data": {
      "text/html": [
       "<div>\n",
       "<style scoped>\n",
       "    .dataframe tbody tr th:only-of-type {\n",
       "        vertical-align: middle;\n",
       "    }\n",
       "\n",
       "    .dataframe tbody tr th {\n",
       "        vertical-align: top;\n",
       "    }\n",
       "\n",
       "    .dataframe thead th {\n",
       "        text-align: right;\n",
       "    }\n",
       "</style>\n",
       "<table border=\"1\" class=\"dataframe\">\n",
       "  <thead>\n",
       "    <tr style=\"text-align: right;\">\n",
       "      <th></th>\n",
       "      <th>REL ID</th>\n",
       "      <th>REL Respid</th>\n",
       "      <th>Date</th>\n",
       "      <th>Reason</th>\n",
       "      <th>OtherReason</th>\n",
       "      <th>Comments</th>\n",
       "    </tr>\n",
       "  </thead>\n",
       "  <tbody>\n",
       "    <tr>\n",
       "      <td>0</td>\n",
       "      <td>2</td>\n",
       "      <td>392057</td>\n",
       "      <td>1/9/2017</td>\n",
       "      <td>Claims Service</td>\n",
       "      <td>'-</td>\n",
       "      <td>When we've had claims Amica has responded very...</td>\n",
       "    </tr>\n",
       "    <tr>\n",
       "      <td>1</td>\n",
       "      <td>3</td>\n",
       "      <td>392063</td>\n",
       "      <td>1/9/2017</td>\n",
       "      <td>Price</td>\n",
       "      <td>'-</td>\n",
       "      <td>For the quality of service I think it's a grea...</td>\n",
       "    </tr>\n",
       "    <tr>\n",
       "      <td>2</td>\n",
       "      <td>4</td>\n",
       "      <td>392070</td>\n",
       "      <td>1/9/2017</td>\n",
       "      <td>Price</td>\n",
       "      <td>'-</td>\n",
       "      <td>because everyone would like to pay the least f...</td>\n",
       "    </tr>\n",
       "    <tr>\n",
       "      <td>3</td>\n",
       "      <td>5</td>\n",
       "      <td>392089</td>\n",
       "      <td>1/9/2017</td>\n",
       "      <td>Price</td>\n",
       "      <td>'-</td>\n",
       "      <td>I feel the pricing is excellent</td>\n",
       "    </tr>\n",
       "    <tr>\n",
       "      <td>4</td>\n",
       "      <td>6</td>\n",
       "      <td>392099</td>\n",
       "      <td>1/9/2017</td>\n",
       "      <td>Price</td>\n",
       "      <td>'-</td>\n",
       "      <td>Who wants to pay more for the same thing? Next...</td>\n",
       "    </tr>\n",
       "  </tbody>\n",
       "</table>\n",
       "</div>"
      ],
      "text/plain": [
       "   REL ID  REL Respid      Date          Reason OtherReason  \\\n",
       "0       2      392057  1/9/2017  Claims Service          '-   \n",
       "1       3      392063  1/9/2017           Price          '-   \n",
       "2       4      392070  1/9/2017           Price          '-   \n",
       "3       5      392089  1/9/2017           Price          '-   \n",
       "4       6      392099  1/9/2017           Price          '-   \n",
       "\n",
       "                                            Comments  \n",
       "0  When we've had claims Amica has responded very...  \n",
       "1  For the quality of service I think it's a grea...  \n",
       "2  because everyone would like to pay the least f...  \n",
       "3                    I feel the pricing is excellent  \n",
       "4  Who wants to pay more for the same thing? Next...  "
      ]
     },
     "execution_count": 6,
     "metadata": {},
     "output_type": "execute_result"
    }
   ],
   "source": [
    "#rename columns so there are no spaces/easier to work with later on\n",
    "\n",
    "rel = rel.rename(columns={'Combined Interview End Date':'Date','REL Primary Reason':'Reason','REL Reason Other': 'OtherReason', 'REL Primary Reason Comments': 'Comments'})\n",
    "rel.head()"
   ]
  },
  {
   "cell_type": "code",
   "execution_count": 9,
   "metadata": {},
   "outputs": [
    {
     "data": {
      "text/plain": [
       "REL ID         0\n",
       "REL Respid     0\n",
       "Date           0\n",
       "Reason         0\n",
       "OtherReason    3\n",
       "Comments       0\n",
       "dtype: int64"
      ]
     },
     "execution_count": 9,
     "metadata": {},
     "output_type": "execute_result"
    }
   ],
   "source": [
    "#remove nulls in comments section\n",
    "\n",
    "rel['Comments'] = rel['Comments'].fillna(\"\")\n",
    "rel.isna().sum()"
   ]
  },
  {
   "cell_type": "code",
   "execution_count": 10,
   "metadata": {},
   "outputs": [
    {
     "data": {
      "text/plain": [
       "Claims Service                 12656\n",
       "Price                          10208\n",
       "Reputation                      9445\n",
       "Policy Service - Non Claims     6870\n",
       "reason_99_other                 2950\n",
       "'-                              2724\n",
       "Product Offerings               1769\n",
       "Billing Options                 1488\n",
       "Financial Strength              1229\n",
       "Website                          707\n",
       "Life                             126\n",
       "Mobile App                        62\n",
       "Name: Reason, dtype: int64"
      ]
     },
     "execution_count": 10,
     "metadata": {},
     "output_type": "execute_result"
    }
   ],
   "source": [
    "rel['Reason'].value_counts()"
   ]
  },
  {
   "cell_type": "code",
   "execution_count": 12,
   "metadata": {},
   "outputs": [
    {
     "data": {
      "image/png": "[encoded data removed]",
      "text/plain": [
       "<Figure size 1728x864 with 1 Axes>"
      ]
     },
     "metadata": {
      "needs_background": "light"
     },
     "output_type": "display_data"
    }
   ],
   "source": [
    "rel_reasons = rel['Reason'].value_counts()\n",
    "#rel_reasons = rel_reasons[:7]\n",
    "plt.figure(figsize=(24,12))\n",
    "sns.barplot(rel_reasons.index, rel_reasons.values, alpha=0.8)\n",
    "plt.title('Most Common Primary Reasons REL')\n",
    "plt.ylabel('Number of Occurrences', fontsize=12)\n",
    "plt.xlabel('Primary Reason', fontsize=12)\n",
    "plt.show()"
   ]
  },
  {
   "cell_type": "code",
   "execution_count": null,
   "metadata": {},
   "outputs": [],
   "source": []
  }
 ],
 "metadata": {
  "kernelspec": {
   "display_name": "Python 3",
   "language": "python",
   "name": "python3"
  },
  "language_info": {
   "codemirror_mode": {
    "name": "ipython",
    "version": 3
   },
   "file_extension": ".py",
   "mimetype": "text/x-python",
   "name": "python",
   "nbconvert_exporter": "python",
   "pygments_lexer": "ipython3",
   "version": "3.7.4"
  }
 },
 "nbformat": 4,
 "nbformat_minor": 4
}
